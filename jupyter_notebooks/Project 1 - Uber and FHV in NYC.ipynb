{
 "cells": [
  {
   "cell_type": "markdown",
   "metadata": {},
   "source": [
    "# Project 1 - Uber and For Hire Vehicles (FHV) in NYC"
   ]
  },
  {
   "cell_type": "markdown",
   "metadata": {},
   "source": [
    "### About"
   ]
  },
  {
   "cell_type": "markdown",
   "metadata": {},
   "source": [
    "Our goal is to analyze the popularity of Uber in areas of New York City in comparison to their competitors: Lyft and other car services. We hope to gain insight on the times/areas of activity and the number of rides made in different locations between the various services. Another interesting aspect we’d like to explore is the characteristics (e.g. wealth, density, age, etc.) of the locations that these services are most popular in.   "
   ]
  },
  {
   "cell_type": "markdown",
   "metadata": {},
   "source": [
    "We explored different Uber data sets on the web, but we decided to go with the most complete one that we found on GitHub, curated by FiveThirtyEight. FiveThirtyEight is a website that uses statistical analysis and hard numbers to tell compelling stories about politics, sports, science, economics, etc. This data set is publicly available on Github and has data regarding Uber, Lyft, yellow taxis, and other car services and FHV’s. The following link is where the data set is located: https://github.com/fivethirtyeight/uber-tlc-foil-response \n",
    "It has a significant amount of data on Uber pickups in the city with the time and location. The data set also includes data on many other car services and ride-sharing companies as well as specific trip data. "
   ]
  },
  {
   "cell_type": "markdown",
   "metadata": {},
   "source": [
    "### Questions"
   ]
  },
  {
   "cell_type": "markdown",
   "metadata": {},
   "source": [
    "1. In what neighborhoods of New York City are the different ride-sharing, car services and taxis the most popular?\n",
    "  1. What are the characteristics of the various neighborhoods that different ride-sharing and car services are most popular in?\n",
    "2. What is the activity during different times of the day between ride-sharing (Uber), car services and taxis in various neighborhoods in New York City?\n",
    "  1. Are there certain times of day that either one of the services is more popular?\n",
    "3. What is the trend of the activity between Uber and other FHV services from 2014-2016?\n",
    "  1. Has Uber increased in popularity or even surpassed other services like Yellow Cab in number of trips per day?"
   ]
  },
  {
   "cell_type": "markdown",
   "metadata": {},
   "source": [
    "#### Question 1 Findings"
   ]
  },
  {
   "cell_type": "markdown",
   "metadata": {
    "collapsed": true
   },
   "source": [
    "The word map depicts the popularity of Uber in the given neighborhoods. The neighborhoods in which Uber is more popular have larger fonts. Likewise, neighborhoods in which Uber is not very popular have smaller fonts. At a quick glance of the word map we see that Midtown, East Village, Tribeca and Union Square are the neighborhoods that are the most popular. These neighborhoods are home to tourist attractions, offices and universities.\n",
    "\n",
    "We looked at more specific characteristics of the top 5 and lowest 5 neighborhoods (in terms of popularity of Uber). We looked at the median age of the both males and females in each of the neighborhoods but see no evidence as to the affect of these characterists on the popularity of uber in the following neighborhoods. However, if we look at the median household income we see that the top 5 neighborhoods, on average, have a significantly higher income in comparison to the neighborhoods in the lowest 5 neighborhoods. Another interesting factor to note is the population density; while looking at the population density alone we see no apparent trend. However, when looking at the the population density of Hamilton Heights and Manhattanville and comparing it do the median household income we see that these neighborhoods are poverty stricken neighborhoods. Data on neighborhood characteristics"
   ]
  },
  {
   "cell_type": "markdown",
   "metadata": {},
   "source": [
    "#### Question 1 Conclusion"
   ]
  },
  {
   "cell_type": "markdown",
   "metadata": {},
   "source": [
    "Downtown Manhattan and neighborhoods such as Midtown, Tribeca, Union Square, etc. have the highest number of requested rides. Increasing the base price by \\$1-2 will allow Uber to bring in more profits without losing their customers. We have seen that in one hour, Uber has provided up to 1,000,000 rides; if Uber increases the base fare by \\$2 they can make an extra \\$2,000,000 in one hour."
   ]
  },
  {
   "cell_type": "markdown",
   "metadata": {
    "collapsed": true
   },
   "source": [
    "#### Question 2 Findings"
   ]
  },
  {
   "cell_type": "markdown",
   "metadata": {},
   "source": [
    "In 2014 we see that Uber is the most popular on Wednesday, Thursday and Friday whereas, in 2015 Uber is the most popular on Thursday, Friday and Saturday. There seems to be a paradigm shift between the usage types of Uber from 2014 to 2015 where there is a much higher ratio of people using Uber during the weekdays in 2014 while more people proportionally are using Uber on the weekends in 2015. Along with the increase in usage over the weekend we see the massive increase in the number of rides given per day from 2014 to 2015.\n",
    "\n",
    "We originally thought that the most popular times would be rush hour times during the morning and evening, however it seems like more people utilize other methods of transportation going to work in the morning compared to commuting back home in the evening. The general trend of the activity of Uber throughout the day in 2014 and 2015 are about the same however, in 2014, while the activity drops off later into the night in 2015, Uber is still very active throughout the night. NYC is know for having a very upbeat nightlife and we believe that the rise in popularity of Uber being used on the weekend is for experiencing the nightlife. In 2014, the peak number of rides was at 5pm however in 2015 the peak is at 7pm and the difference between the number of rides given at the peaks is about 700,000.\n",
    "\n",
    "After splitting up Uber popularity by Day of Week and by Hour we can get a more detailed view on what times Uber is most popular. We noticed that more people tend to use Uber in the morning on Monday compared to the other days of the week and Saturday seems to have the least activity in the morning across both years. New Yorkers also tend to stay up much later and use Uber on Fri, Sat, and usprisingly Sunday as well!"
   ]
  },
  {
   "cell_type": "markdown",
   "metadata": {},
   "source": [
    "#### Question 2 Conclusion\n"
   ]
  },
  {
   "cell_type": "markdown",
   "metadata": {},
   "source": [
    "We have analyzed the details of how popular Uber is, is heavily dependent on time.\n",
    "\n",
    "In order for Uber to maximize its revenue and for drivers to earn more there are certain times of day that Uber should encourage more drivers to go out. As the trend seems to shift from 2014 to 2015, Uber should encourage more Uber drivers to work on weekends more so during the afternoon to late night times. Also, during evening rush hour times on weekdays, there will be more riders that are willing to use Uber. However, on certain days like Mondays, morning rush hour may also be a good time for drivers to start working as well."
   ]
  },
  {
   "cell_type": "markdown",
   "metadata": {},
   "source": [
    "#### Question 3 Findings"
   ]
  },
  {
   "cell_type": "markdown",
   "metadata": {},
   "source": [
    "In 2014, Uber was able to surpass other FHV's and come close to the number of rides as the Green Taxis, however, the Yellow Taxis continued to dominate the ride services in NYC."
   ]
  },
  {
   "cell_type": "markdown",
   "metadata": {},
   "source": [
    "#### Question 3 Conclusion"
   ]
  },
  {
   "cell_type": "markdown",
   "metadata": {},
   "source": [
    "In 2015, the number of rides provided by Uber surpassed that of all other FHV services except the Yellow Taxi Services, the company that previously dominanted the market. Now, Uber and the Yellow Taxi Services are neck-to-neck. In order, the gain new customers and keep its current ones Uber must gain customer loyalty by providing special services and offers the the Yellow Taxi Services cannot."
   ]
  }
 ],
 "metadata": {
  "kernelspec": {
   "display_name": "Python 3",
   "language": "python",
   "name": "python3"
  },
  "language_info": {
   "codemirror_mode": {
    "name": "ipython",
    "version": 3
   },
   "file_extension": ".py",
   "mimetype": "text/x-python",
   "name": "python",
   "nbconvert_exporter": "python",
   "pygments_lexer": "ipython3",
   "version": "3.5.2"
  }
 },
 "nbformat": 4,
 "nbformat_minor": 2
}
