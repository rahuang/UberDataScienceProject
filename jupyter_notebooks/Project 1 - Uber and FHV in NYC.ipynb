{
 "cells": [
  {
   "cell_type": "markdown",
   "metadata": {},
   "source": [
    "# Project 1 - Uber and For Hire Vehicles (FHV) in NYC"
   ]
  },
  {
   "cell_type": "markdown",
   "metadata": {},
   "source": [
    "### About"
   ]
  },
  {
   "cell_type": "markdown",
   "metadata": {},
   "source": [
    "Our goal is to analyze the popularity of Uber in areas of New York City in comparison to their competitors: Lyft and other car services. We hope to gain insight on the times/areas of activity and the number of rides made in different locations between the various services. Another interesting aspect we’d like to explore is the characteristics (e.g. wealth, density, age, etc.) of the locations that these services are most popular in.   "
   ]
  },
  {
   "cell_type": "markdown",
   "metadata": {},
   "source": [
    "We explored different Uber data sets on the web, but we decided to go with the most complete one that we found on GitHub, curated by FiveThirtyEight. FiveThirtyEight is a website that uses statistical analysis and hard numbers to tell compelling stories about politics, sports, science, economics, etc. This data set is publicly available on Github and has data regarding Uber, Lyft, yellow taxis, and other car services and FHV’s. The following link is where the data set is located: https://github.com/fivethirtyeight/uber-tlc-foil-response \n",
    "It has a significant amount of data on Uber pickups in the city with the time and location. The data set also includes data on many other car services and ride-sharing companies as well as specific trip data. "
   ]
  },
  {
   "cell_type": "markdown",
   "metadata": {},
   "source": [
    "### Questions"
   ]
  },
  {
   "cell_type": "markdown",
   "metadata": {},
   "source": [
    "1. In what neighborhoods of New York City are the different ride-sharing, car services and taxis the most popular?\n",
    "  1. What are the characteristics of the various neighborhoods that different ride-sharing and car services are most popular in?\n",
    "2. What is the activity during different times of the day between ride-sharing (Uber), car services and taxis in various neighborhoods in New York City?\n",
    "  1. Are there certain times of day that either one of the services is more popular?\n",
    "3. What is the trend of the activity between Uber and other FHV services from 2014-2016?\n",
    "  1. Has Uber increased in popularity or even surpassed other services like Yellow Cab in number of trips per day?"
   ]
  },
  {
   "cell_type": "markdown",
   "metadata": {},
   "source": [
    "#### 1) In what neighborhoods of New York City are the different ride-sharing, car services and taxis the most popular?"
   ]
  },
  {
   "cell_type": "code",
   "execution_count": null,
   "metadata": {
    "collapsed": true
   },
   "outputs": [],
   "source": []
  },
  {
   "cell_type": "code",
   "execution_count": null,
   "metadata": {
    "collapsed": true
   },
   "outputs": [],
   "source": []
  }
 ],
 "metadata": {
  "kernelspec": {
   "display_name": "Python 3",
   "language": "python",
   "name": "python3"
  },
  "language_info": {
   "codemirror_mode": {
    "name": "ipython",
    "version": 3
   },
   "file_extension": ".py",
   "mimetype": "text/x-python",
   "name": "python",
   "nbconvert_exporter": "python",
   "pygments_lexer": "ipython3",
   "version": "3.5.2"
  }
 },
 "nbformat": 4,
 "nbformat_minor": 2
}
